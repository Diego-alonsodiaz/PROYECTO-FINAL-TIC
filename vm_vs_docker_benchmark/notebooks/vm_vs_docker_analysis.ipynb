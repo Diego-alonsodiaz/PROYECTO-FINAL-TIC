{
 "cells": [
  {
   "cell_type": "code",
   "execution_count": null,
   "id": "3d40e833-e20e-4599-8643-f087ffe4468d",
   "metadata": {},
   "outputs": [],
   "source": [
    "import pandas as pd\n",
    "import matplotlib.pyplot as plt\n",
    "import os\n",
    "\n",
    "# Ruta a los resultados\n",
    "results_dir = \"../results\"\n",
    "threads_list = [1, 2, 4, 6, 8]\n",
    "execution_times = []\n",
    "\n",
    "# Leer y graficar los datos de CPU por cada número de hilos\n",
    "for threads in threads_list:\n",
    "    file_path = os.path.join(results_dir, f\"run_{threads}_threads.csv\")\n",
    "    df = pd.read_csv(file_path)\n",
    "    \n",
    "    # Guardar el tiempo total de ejecución estimado (número de muestras * intervalo)\n",
    "    total_time = len(df) * 0.5  # intervalo usado en monitor_resources\n",
    "    execution_times.append(total_time)\n",
    "    \n",
    "    # Graficar uso de CPU\n",
    "    plt.plot(df[\"timestamp\"] - df[\"timestamp\"][0], df[\"cpu_percent\"], label=f\"{threads} hilos\")\n",
    "\n",
    "plt.title(\"Uso de CPU durante la ejecución (VM o Docker)\")\n",
    "plt.xlabel(\"Tiempo (s)\")\n",
    "plt.ylabel(\"CPU (%)\")\n",
    "plt.legend()\n",
    "plt.grid(True)\n",
    "plt.show()\n",
    "\n",
    "# Graficar tiempo de ejecución total estimado\n",
    "plt.figure()\n",
    "plt.bar([str(t) for t in threads_list], execution_times, color=\"skyblue\")\n",
    "plt.title(\"Tiempo total estimado según número de hilos\")\n",
    "plt.xlabel(\"Nº de hilos\")\n",
    "plt.ylabel(\"Tiempo (s)\")\n",
    "plt.grid(True, axis=\"y\")\n",
    "plt.show()\n",
    "\n",
    "# Graficar uso de RAM\n",
    "plt.figure()\n",
    "for threads in threads_list:\n",
    "    file_path = os.path.join(results_dir, f\"run_{threads}_threads.csv\")\n",
    "    df = pd.read_csv(file_path)\n",
    "    \n",
    "    # Graficar uso de RAM\n",
    "    plt.plot(df[\"timestamp\"] - df[\"timestamp\"][0], df[\"memory_used_MB\"], label=f\"{threads} hilos\")\n",
    "\n",
    "plt.title(\"Uso de RAM durante la ejecución\")\n",
    "plt.xlabel(\"Tiempo (s)\")\n",
    "plt.ylabel(\"RAM usada (MB)\")\n",
    "plt.legend()\n",
    "plt.grid(True)\n",
    "plt.show()\n"
   ]
  },
  {
   "cell_type": "code",
   "execution_count": 2,
   "id": "8d3d2394-5d6c-4177-ab4f-4e1f5bd385fa",
   "metadata": {},
   "outputs": [
    {
     "name": "stderr",
     "output_type": "stream",
     "text": [
      "\"pip\" no se reconoce como un comando interno o externo,\n",
      "programa o archivo por lotes ejecutable.\n"
     ]
    }
   ],
   "source": [
    "!pip install pandas matplotlib\n"
   ]
  },
  {
   "cell_type": "code",
   "execution_count": null,
   "id": "4c3aa597-ea5f-4043-845c-8988cda1629f",
   "metadata": {},
   "outputs": [],
   "source": [
    "import sys\n",
    "!{sys.executable} -m pip install pandas matplotlib\n"
   ]
  },
  {
   "cell_type": "code",
   "execution_count": null,
   "id": "13dd5fd0-aeb8-47ed-a279-11818bac569f",
   "metadata": {},
   "outputs": [],
   "source": []
  }
 ],
 "metadata": {
  "kernelspec": {
   "display_name": "Python 3 (ipykernel)",
   "language": "python",
   "name": "python3"
  },
  "language_info": {
   "codemirror_mode": {
    "name": "ipython",
    "version": 3
   },
   "file_extension": ".py",
   "mimetype": "text/x-python",
   "name": "python",
   "nbconvert_exporter": "python",
   "pygments_lexer": "ipython3",
   "version": "3.13.3"
  }
 },
 "nbformat": 4,
 "nbformat_minor": 5
}
