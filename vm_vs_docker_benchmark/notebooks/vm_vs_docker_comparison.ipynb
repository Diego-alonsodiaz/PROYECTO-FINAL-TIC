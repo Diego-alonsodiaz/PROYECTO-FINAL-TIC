{
 "cells": [
  {
   "cell_type": "code",
   "execution_count": null,
   "id": "e55ef189",
   "metadata": {},
   "outputs": [],
   "source": [
    "import pandas as pd\n",
    "import matplotlib.pyplot as plt\n",
    "import os\n",
    "\n",
    "results_dir = \"../results\"\n",
    "threads_list = [1, 2, 4, 6, 8]\n",
    "execution_times = []\n",
    "\n",
    "# Leer y graficar los datos de CPU/RAM por cada número de hilos\n",
    "for threads in threads_list:\n",
    "    file_path = os.path.join(results_dir, f\"run_{threads}_threads.csv\")\n",
    "    df = pd.read_csv(file_path)\n",
    "    \n",
    "    # Guardar el tiempo total de ejecución estimado (número de muestras * intervalo)\n",
    "    total_time = len(df) * 0.5  # intervalo usado en monitor_resources\n",
    "    execution_times.append(total_time)\n",
    "    \n",
    "    # Graficar uso de CPU\n",
    "    plt.plot(df[\"timestamp\"] - df[\"timestamp\"][0], df[\"cpu_percent\"], label=f\"{threads} hilos\")\n",
    "\n",
    "plt.title(\"Uso de CPU durante la ejecución (VM o Docker)\")\n",
    "plt.xlabel(\"Tiempo (s)\")\n",
    "plt.ylabel(\"CPU (%)\")\n",
    "plt.legend()\n",
    "plt.grid(True)\n",
    "plt.show()\n",
    "\n",
    "# Graficar tiempo de ejecución total estimado\n",
    "plt.figure()\n",
    "plt.bar([str(t) for t in threads_list], execution_times, color=\"skyblue\")\n",
    "plt.title(\"Tiempo total estimado según número de hilos\")\n",
    "plt.xlabel(\"Nº de hilos\")\n",
    "plt.ylabel(\"Tiempo (s)\")\n",
    "plt.grid(True, axis=\"y\")\n",
    "plt.show()\n",
    "# Graficar uso de RAM\n",
    "for threads in threads_list:\n",
    "    file_path = os.path.join(results_dir, f\"run_{threads}_threads.csv\")\n",
    "    df = pd.read_csv(file_path)\n",
    "    \n",
    "    # Graficar uso de RAM\n",
    "    plt.plot(df[\"timestamp\"] - df[\"timestamp\"][0], df[\"memory_used_MB\"], label=f\"{threads} hilos\")\n"
   ]
  }
 ],
 "metadata": {
  "language_info": {
   "name": "python"
  }
 },
 "nbformat": 4,
 "nbformat_minor": 5
}
